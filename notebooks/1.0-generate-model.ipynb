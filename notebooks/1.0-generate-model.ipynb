{
 "cells": [
  {
   "cell_type": "markdown",
   "metadata": {},
   "source": [
    "# <h4>Bibliotecas necessárias</h4>"
   ]
  },
  {
   "cell_type": "code",
   "execution_count": 1,
   "metadata": {},
   "outputs": [],
   "source": [
    "# Bibliotecas para preparar os dados\n",
    "import numpy as np\n",
    "import pandas as pd\n",
    "\n",
    "# Bibliotecas processar os dados para treino\n",
    "from sklearn.preprocessing import StandardScaler\n",
    "from sklearn.model_selection import train_test_split\n",
    "\n",
    "# Classes para classificação\n",
    "from sklearn.tree import ExtraTreeClassifier\n",
    "from sklearn.tree import DecisionTreeClassifier\n",
    "from sklearn.ensemble import AdaBoostClassifier\n",
    "from sklearn.neighbors import KNeighborsClassifier\n",
    "from sklearn.ensemble import RandomForestClassifier\n",
    "\n",
    "# Bibliotecas para medir desempenho dos algoritmos\n",
    "from sklearn.metrics import classification_report"
   ]
  },
  {
   "cell_type": "markdown",
   "metadata": {},
   "source": [
    "# <h4>Importação do dataset</h4>"
   ]
  },
  {
   "cell_type": "code",
   "execution_count": 2,
   "metadata": {},
   "outputs": [],
   "source": [
    "df = pd.read_csv('dataset.csv')"
   ]
  },
  {
   "cell_type": "code",
   "execution_count": null,
   "metadata": {},
   "outputs": [],
   "source": [
    "df.head(15)"
   ]
  },
  {
   "cell_type": "markdown",
   "metadata": {},
   "source": [
    "# <h3>Pré processamento dos dados</h3>"
   ]
  },
  {
   "cell_type": "markdown",
   "metadata": {},
   "source": [
    "# <h4>Busca por NaN e valores nulos</h4>"
   ]
  },
  {
   "cell_type": "code",
   "execution_count": null,
   "metadata": {},
   "outputs": [],
   "source": [
    "df.isna().sum()"
   ]
  },
  {
   "cell_type": "code",
   "execution_count": null,
   "metadata": {},
   "outputs": [],
   "source": [
    "df.isnull().sum()"
   ]
  },
  {
   "cell_type": "markdown",
   "metadata": {},
   "source": [
    "# <h4>Renomear colunas</h4>"
   ]
  },
  {
   "cell_type": "code",
   "execution_count": 3,
   "metadata": {},
   "outputs": [],
   "source": [
    "df.rename(columns={'HeartDisease': 'target', 'BMI': 'IMC'}, inplace=True)"
   ]
  },
  {
   "cell_type": "markdown",
   "metadata": {},
   "source": [
    "# <h4>Substituir faixas de idade por média</h4>"
   ]
  },
  {
   "cell_type": "code",
   "execution_count": null,
   "metadata": {},
   "outputs": [],
   "source": [
    "df.AgeCategory.unique()"
   ]
  },
  {
   "cell_type": "code",
   "execution_count": 4,
   "metadata": {},
   "outputs": [],
   "source": [
    "def get_median_age(interval):\n",
    "  values = interval.split('-')\n",
    "  values = list(map(int, values))\n",
    "  media = np.mean(values)\n",
    "  \n",
    "  return media"
   ]
  },
  {
   "cell_type": "code",
   "execution_count": 5,
   "metadata": {},
   "outputs": [],
   "source": [
    "for item in df.AgeCategory.unique():\n",
    "  if item == '80 or older':\n",
    "    df.AgeCategory.replace(item, 80, inplace=True)\n",
    "  else:\n",
    "    df.AgeCategory.replace(item, get_median_age(item), inplace=True)"
   ]
  },
  {
   "cell_type": "code",
   "execution_count": 6,
   "metadata": {},
   "outputs": [
    {
     "data": {
      "text/plain": [
       "0         57.0\n",
       "1         80.0\n",
       "2         67.0\n",
       "3         77.0\n",
       "4         42.0\n",
       "          ... \n",
       "319790    62.0\n",
       "319791    37.0\n",
       "319792    47.0\n",
       "319793    27.0\n",
       "319794    80.0\n",
       "Name: AgeCategory, Length: 319795, dtype: float64"
      ]
     },
     "execution_count": 6,
     "metadata": {},
     "output_type": "execute_result"
    }
   ],
   "source": [
    "df.AgeCategory.astype(float)"
   ]
  },
  {
   "cell_type": "markdown",
   "metadata": {},
   "source": [
    "# <h4>Converter valores em numéricos</h4>"
   ]
  },
  {
   "cell_type": "code",
   "execution_count": 8,
   "metadata": {},
   "outputs": [
    {
     "data": {
      "text/plain": [
       "Index(['target', 'IMC', 'Smoking', 'AlcoholDrinking', 'Stroke',\n",
       "       'PhysicalHealth', 'MentalHealth', 'DiffWalking', 'Sex', 'AgeCategory',\n",
       "       'Race', 'Diabetic', 'PhysicalActivity', 'GenHealth', 'SleepTime',\n",
       "       'Asthma', 'KidneyDisease', 'SkinCancer'],\n",
       "      dtype='object')"
      ]
     },
     "execution_count": 8,
     "metadata": {},
     "output_type": "execute_result"
    }
   ],
   "source": [
    "ALL_COLUMNS = df.columns\n",
    "ALL_COLUMNS"
   ]
  },
  {
   "cell_type": "code",
   "execution_count": 9,
   "metadata": {},
   "outputs": [],
   "source": [
    "def convert_in_number(column):\n",
    "  values_column = df[column].unique()\n",
    "  \n",
    "  for i in range(len(values_column)):\n",
    "    df[column].replace(values_column[i], i + 1, inplace=True)"
   ]
  },
  {
   "cell_type": "code",
   "execution_count": 10,
   "metadata": {},
   "outputs": [
    {
     "data": {
      "text/plain": [
       "['target',\n",
       " 'Smoking',\n",
       " 'AlcoholDrinking',\n",
       " 'Stroke',\n",
       " 'DiffWalking',\n",
       " 'Sex',\n",
       " 'Race',\n",
       " 'Diabetic',\n",
       " 'PhysicalActivity',\n",
       " 'GenHealth',\n",
       " 'Asthma',\n",
       " 'KidneyDisease',\n",
       " 'SkinCancer']"
      ]
     },
     "execution_count": 10,
     "metadata": {},
     "output_type": "execute_result"
    }
   ],
   "source": [
    "columns = []\n",
    "\n",
    "for i in range(len(ALL_COLUMNS)):\n",
    "  if df[ALL_COLUMNS[i]].dtype != 'float64':\n",
    "    columns.append(str(ALL_COLUMNS[i]))\n",
    "columns"
   ]
  },
  {
   "cell_type": "code",
   "execution_count": 11,
   "metadata": {},
   "outputs": [],
   "source": [
    "for i in range(len(columns)):\n",
    "  convert_in_number(columns[i])"
   ]
  },
  {
   "cell_type": "code",
   "execution_count": null,
   "metadata": {},
   "outputs": [],
   "source": [
    "df.head(50)"
   ]
  },
  {
   "cell_type": "markdown",
   "metadata": {},
   "source": [
    "# <h3>Algoritmos de classificação</h3>"
   ]
  },
  {
   "cell_type": "markdown",
   "metadata": {},
   "source": [
    "# <h4>Decision Tree</h4>"
   ]
  },
  {
   "cell_type": "code",
   "execution_count": 13,
   "metadata": {},
   "outputs": [
    {
     "data": {
      "text/html": [
       "<div>\n",
       "<style scoped>\n",
       "    .dataframe tbody tr th:only-of-type {\n",
       "        vertical-align: middle;\n",
       "    }\n",
       "\n",
       "    .dataframe tbody tr th {\n",
       "        vertical-align: top;\n",
       "    }\n",
       "\n",
       "    .dataframe thead th {\n",
       "        text-align: right;\n",
       "    }\n",
       "</style>\n",
       "<table border=\"1\" class=\"dataframe\">\n",
       "  <thead>\n",
       "    <tr style=\"text-align: right;\">\n",
       "      <th></th>\n",
       "      <th>target</th>\n",
       "      <th>IMC</th>\n",
       "      <th>Smoking</th>\n",
       "      <th>AlcoholDrinking</th>\n",
       "      <th>Stroke</th>\n",
       "      <th>PhysicalHealth</th>\n",
       "      <th>MentalHealth</th>\n",
       "      <th>DiffWalking</th>\n",
       "      <th>Sex</th>\n",
       "      <th>AgeCategory</th>\n",
       "      <th>Race</th>\n",
       "      <th>Diabetic</th>\n",
       "      <th>PhysicalActivity</th>\n",
       "      <th>GenHealth</th>\n",
       "      <th>SleepTime</th>\n",
       "      <th>Asthma</th>\n",
       "      <th>KidneyDisease</th>\n",
       "      <th>SkinCancer</th>\n",
       "    </tr>\n",
       "  </thead>\n",
       "  <tbody>\n",
       "    <tr>\n",
       "      <th>0</th>\n",
       "      <td>1</td>\n",
       "      <td>-1.844750</td>\n",
       "      <td>-1.193474</td>\n",
       "      <td>-0.27032</td>\n",
       "      <td>-0.198040</td>\n",
       "      <td>-0.046751</td>\n",
       "      <td>3.281069</td>\n",
       "      <td>-0.401578</td>\n",
       "      <td>-0.951711</td>\n",
       "      <td>0.149220</td>\n",
       "      <td>-0.468951</td>\n",
       "      <td>-2.189273</td>\n",
       "      <td>-0.538256</td>\n",
       "      <td>-1.083956</td>\n",
       "      <td>-1.460354</td>\n",
       "      <td>-2.541515</td>\n",
       "      <td>-0.195554</td>\n",
       "      <td>-3.118419</td>\n",
       "    </tr>\n",
       "    <tr>\n",
       "      <th>1</th>\n",
       "      <td>1</td>\n",
       "      <td>-1.256338</td>\n",
       "      <td>0.837890</td>\n",
       "      <td>-0.27032</td>\n",
       "      <td>5.049478</td>\n",
       "      <td>-0.424070</td>\n",
       "      <td>-0.490039</td>\n",
       "      <td>-0.401578</td>\n",
       "      <td>-0.951711</td>\n",
       "      <td>1.447159</td>\n",
       "      <td>-0.468951</td>\n",
       "      <td>0.217526</td>\n",
       "      <td>-0.538256</td>\n",
       "      <td>-1.083956</td>\n",
       "      <td>-0.067601</td>\n",
       "      <td>0.393466</td>\n",
       "      <td>-0.195554</td>\n",
       "      <td>0.320675</td>\n",
       "    </tr>\n",
       "    <tr>\n",
       "      <th>2</th>\n",
       "      <td>1</td>\n",
       "      <td>-0.274603</td>\n",
       "      <td>-1.193474</td>\n",
       "      <td>-0.27032</td>\n",
       "      <td>-0.198040</td>\n",
       "      <td>2.091388</td>\n",
       "      <td>3.281069</td>\n",
       "      <td>-0.401578</td>\n",
       "      <td>1.050739</td>\n",
       "      <td>0.713541</td>\n",
       "      <td>-0.468951</td>\n",
       "      <td>-2.189273</td>\n",
       "      <td>-0.538256</td>\n",
       "      <td>-0.420104</td>\n",
       "      <td>0.628776</td>\n",
       "      <td>-2.541515</td>\n",
       "      <td>-0.195554</td>\n",
       "      <td>0.320675</td>\n",
       "    </tr>\n",
       "    <tr>\n",
       "      <th>3</th>\n",
       "      <td>1</td>\n",
       "      <td>-0.647473</td>\n",
       "      <td>0.837890</td>\n",
       "      <td>-0.27032</td>\n",
       "      <td>-0.198040</td>\n",
       "      <td>-0.424070</td>\n",
       "      <td>-0.490039</td>\n",
       "      <td>-0.401578</td>\n",
       "      <td>-0.951711</td>\n",
       "      <td>1.277863</td>\n",
       "      <td>-0.468951</td>\n",
       "      <td>0.217526</td>\n",
       "      <td>1.857852</td>\n",
       "      <td>0.243748</td>\n",
       "      <td>-0.763977</td>\n",
       "      <td>0.393466</td>\n",
       "      <td>-0.195554</td>\n",
       "      <td>-3.118419</td>\n",
       "    </tr>\n",
       "    <tr>\n",
       "      <th>4</th>\n",
       "      <td>1</td>\n",
       "      <td>-0.726138</td>\n",
       "      <td>0.837890</td>\n",
       "      <td>-0.27032</td>\n",
       "      <td>-0.198040</td>\n",
       "      <td>3.097572</td>\n",
       "      <td>-0.490039</td>\n",
       "      <td>2.490174</td>\n",
       "      <td>-0.951711</td>\n",
       "      <td>-0.697262</td>\n",
       "      <td>-0.468951</td>\n",
       "      <td>0.217526</td>\n",
       "      <td>-0.538256</td>\n",
       "      <td>-1.083956</td>\n",
       "      <td>0.628776</td>\n",
       "      <td>0.393466</td>\n",
       "      <td>-0.195554</td>\n",
       "      <td>0.320675</td>\n",
       "    </tr>\n",
       "    <tr>\n",
       "      <th>...</th>\n",
       "      <td>...</td>\n",
       "      <td>...</td>\n",
       "      <td>...</td>\n",
       "      <td>...</td>\n",
       "      <td>...</td>\n",
       "      <td>...</td>\n",
       "      <td>...</td>\n",
       "      <td>...</td>\n",
       "      <td>...</td>\n",
       "      <td>...</td>\n",
       "      <td>...</td>\n",
       "      <td>...</td>\n",
       "      <td>...</td>\n",
       "      <td>...</td>\n",
       "      <td>...</td>\n",
       "      <td>...</td>\n",
       "      <td>...</td>\n",
       "      <td>...</td>\n",
       "    </tr>\n",
       "    <tr>\n",
       "      <th>319790</th>\n",
       "      <td>2</td>\n",
       "      <td>-0.144019</td>\n",
       "      <td>-1.193474</td>\n",
       "      <td>-0.27032</td>\n",
       "      <td>-0.198040</td>\n",
       "      <td>0.456341</td>\n",
       "      <td>-0.490039</td>\n",
       "      <td>2.490174</td>\n",
       "      <td>1.050739</td>\n",
       "      <td>0.431381</td>\n",
       "      <td>2.713424</td>\n",
       "      <td>-2.189273</td>\n",
       "      <td>1.857852</td>\n",
       "      <td>-0.420104</td>\n",
       "      <td>-0.763977</td>\n",
       "      <td>-2.541515</td>\n",
       "      <td>-0.195554</td>\n",
       "      <td>0.320675</td>\n",
       "    </tr>\n",
       "    <tr>\n",
       "      <th>319791</th>\n",
       "      <td>1</td>\n",
       "      <td>0.238291</td>\n",
       "      <td>-1.193474</td>\n",
       "      <td>-0.27032</td>\n",
       "      <td>-0.198040</td>\n",
       "      <td>-0.424070</td>\n",
       "      <td>-0.490039</td>\n",
       "      <td>-0.401578</td>\n",
       "      <td>1.050739</td>\n",
       "      <td>-0.979422</td>\n",
       "      <td>2.713424</td>\n",
       "      <td>0.217526</td>\n",
       "      <td>-0.538256</td>\n",
       "      <td>-1.083956</td>\n",
       "      <td>-1.460354</td>\n",
       "      <td>-2.541515</td>\n",
       "      <td>-0.195554</td>\n",
       "      <td>0.320675</td>\n",
       "    </tr>\n",
       "    <tr>\n",
       "      <th>319792</th>\n",
       "      <td>1</td>\n",
       "      <td>-0.642753</td>\n",
       "      <td>0.837890</td>\n",
       "      <td>-0.27032</td>\n",
       "      <td>-0.198040</td>\n",
       "      <td>-0.424070</td>\n",
       "      <td>-0.490039</td>\n",
       "      <td>-0.401578</td>\n",
       "      <td>-0.951711</td>\n",
       "      <td>-0.415101</td>\n",
       "      <td>2.713424</td>\n",
       "      <td>0.217526</td>\n",
       "      <td>-0.538256</td>\n",
       "      <td>0.243748</td>\n",
       "      <td>-0.763977</td>\n",
       "      <td>0.393466</td>\n",
       "      <td>-0.195554</td>\n",
       "      <td>0.320675</td>\n",
       "    </tr>\n",
       "    <tr>\n",
       "      <th>319793</th>\n",
       "      <td>1</td>\n",
       "      <td>0.705560</td>\n",
       "      <td>0.837890</td>\n",
       "      <td>-0.27032</td>\n",
       "      <td>-0.198040</td>\n",
       "      <td>-0.424070</td>\n",
       "      <td>-0.490039</td>\n",
       "      <td>-0.401578</td>\n",
       "      <td>-0.951711</td>\n",
       "      <td>-1.543744</td>\n",
       "      <td>2.713424</td>\n",
       "      <td>0.217526</td>\n",
       "      <td>1.857852</td>\n",
       "      <td>0.243748</td>\n",
       "      <td>3.414282</td>\n",
       "      <td>0.393466</td>\n",
       "      <td>-0.195554</td>\n",
       "      <td>0.320675</td>\n",
       "    </tr>\n",
       "    <tr>\n",
       "      <th>319794</th>\n",
       "      <td>1</td>\n",
       "      <td>2.868839</td>\n",
       "      <td>0.837890</td>\n",
       "      <td>-0.27032</td>\n",
       "      <td>-0.198040</td>\n",
       "      <td>-0.424070</td>\n",
       "      <td>-0.490039</td>\n",
       "      <td>-0.401578</td>\n",
       "      <td>-0.951711</td>\n",
       "      <td>1.447159</td>\n",
       "      <td>2.713424</td>\n",
       "      <td>0.217526</td>\n",
       "      <td>-0.538256</td>\n",
       "      <td>0.243748</td>\n",
       "      <td>0.628776</td>\n",
       "      <td>0.393466</td>\n",
       "      <td>-0.195554</td>\n",
       "      <td>0.320675</td>\n",
       "    </tr>\n",
       "  </tbody>\n",
       "</table>\n",
       "<p>319795 rows × 18 columns</p>\n",
       "</div>"
      ],
      "text/plain": [
       "        target       IMC   Smoking  AlcoholDrinking    Stroke  PhysicalHealth  \\\n",
       "0            1 -1.844750 -1.193474         -0.27032 -0.198040       -0.046751   \n",
       "1            1 -1.256338  0.837890         -0.27032  5.049478       -0.424070   \n",
       "2            1 -0.274603 -1.193474         -0.27032 -0.198040        2.091388   \n",
       "3            1 -0.647473  0.837890         -0.27032 -0.198040       -0.424070   \n",
       "4            1 -0.726138  0.837890         -0.27032 -0.198040        3.097572   \n",
       "...        ...       ...       ...              ...       ...             ...   \n",
       "319790       2 -0.144019 -1.193474         -0.27032 -0.198040        0.456341   \n",
       "319791       1  0.238291 -1.193474         -0.27032 -0.198040       -0.424070   \n",
       "319792       1 -0.642753  0.837890         -0.27032 -0.198040       -0.424070   \n",
       "319793       1  0.705560  0.837890         -0.27032 -0.198040       -0.424070   \n",
       "319794       1  2.868839  0.837890         -0.27032 -0.198040       -0.424070   \n",
       "\n",
       "        MentalHealth  DiffWalking       Sex  AgeCategory      Race  Diabetic  \\\n",
       "0           3.281069    -0.401578 -0.951711     0.149220 -0.468951 -2.189273   \n",
       "1          -0.490039    -0.401578 -0.951711     1.447159 -0.468951  0.217526   \n",
       "2           3.281069    -0.401578  1.050739     0.713541 -0.468951 -2.189273   \n",
       "3          -0.490039    -0.401578 -0.951711     1.277863 -0.468951  0.217526   \n",
       "4          -0.490039     2.490174 -0.951711    -0.697262 -0.468951  0.217526   \n",
       "...              ...          ...       ...          ...       ...       ...   \n",
       "319790     -0.490039     2.490174  1.050739     0.431381  2.713424 -2.189273   \n",
       "319791     -0.490039    -0.401578  1.050739    -0.979422  2.713424  0.217526   \n",
       "319792     -0.490039    -0.401578 -0.951711    -0.415101  2.713424  0.217526   \n",
       "319793     -0.490039    -0.401578 -0.951711    -1.543744  2.713424  0.217526   \n",
       "319794     -0.490039    -0.401578 -0.951711     1.447159  2.713424  0.217526   \n",
       "\n",
       "        PhysicalActivity  GenHealth  SleepTime    Asthma  KidneyDisease  \\\n",
       "0              -0.538256  -1.083956  -1.460354 -2.541515      -0.195554   \n",
       "1              -0.538256  -1.083956  -0.067601  0.393466      -0.195554   \n",
       "2              -0.538256  -0.420104   0.628776 -2.541515      -0.195554   \n",
       "3               1.857852   0.243748  -0.763977  0.393466      -0.195554   \n",
       "4              -0.538256  -1.083956   0.628776  0.393466      -0.195554   \n",
       "...                  ...        ...        ...       ...            ...   \n",
       "319790          1.857852  -0.420104  -0.763977 -2.541515      -0.195554   \n",
       "319791         -0.538256  -1.083956  -1.460354 -2.541515      -0.195554   \n",
       "319792         -0.538256   0.243748  -0.763977  0.393466      -0.195554   \n",
       "319793          1.857852   0.243748   3.414282  0.393466      -0.195554   \n",
       "319794         -0.538256   0.243748   0.628776  0.393466      -0.195554   \n",
       "\n",
       "        SkinCancer  \n",
       "0        -3.118419  \n",
       "1         0.320675  \n",
       "2         0.320675  \n",
       "3        -3.118419  \n",
       "4         0.320675  \n",
       "...            ...  \n",
       "319790    0.320675  \n",
       "319791    0.320675  \n",
       "319792    0.320675  \n",
       "319793    0.320675  \n",
       "319794    0.320675  \n",
       "\n",
       "[319795 rows x 18 columns]"
      ]
     },
     "execution_count": 13,
     "metadata": {},
     "output_type": "execute_result"
    }
   ],
   "source": [
    "scale_dataset = StandardScaler()\n",
    "\n",
    "columns = df.columns[1:]\n",
    "df[columns] = scale_dataset.fit_transform(df[columns].astype(float))\n",
    "df"
   ]
  },
  {
   "cell_type": "code",
   "execution_count": 14,
   "metadata": {},
   "outputs": [],
   "source": [
    "columns = df.columns[1:]\n",
    "X = df[columns]\n",
    "y = df.target"
   ]
  },
  {
   "cell_type": "code",
   "execution_count": 15,
   "metadata": {},
   "outputs": [],
   "source": [
    "train_X, val_X, train_y, val_y = train_test_split(X, y, test_size=0.45, random_state=42)"
   ]
  },
  {
   "cell_type": "code",
   "execution_count": 16,
   "metadata": {},
   "outputs": [
    {
     "data": {
      "text/html": [
       "<style>#sk-container-id-1 {color: black;background-color: white;}#sk-container-id-1 pre{padding: 0;}#sk-container-id-1 div.sk-toggleable {background-color: white;}#sk-container-id-1 label.sk-toggleable__label {cursor: pointer;display: block;width: 100%;margin-bottom: 0;padding: 0.3em;box-sizing: border-box;text-align: center;}#sk-container-id-1 label.sk-toggleable__label-arrow:before {content: \"▸\";float: left;margin-right: 0.25em;color: #696969;}#sk-container-id-1 label.sk-toggleable__label-arrow:hover:before {color: black;}#sk-container-id-1 div.sk-estimator:hover label.sk-toggleable__label-arrow:before {color: black;}#sk-container-id-1 div.sk-toggleable__content {max-height: 0;max-width: 0;overflow: hidden;text-align: left;background-color: #f0f8ff;}#sk-container-id-1 div.sk-toggleable__content pre {margin: 0.2em;color: black;border-radius: 0.25em;background-color: #f0f8ff;}#sk-container-id-1 input.sk-toggleable__control:checked~div.sk-toggleable__content {max-height: 200px;max-width: 100%;overflow: auto;}#sk-container-id-1 input.sk-toggleable__control:checked~label.sk-toggleable__label-arrow:before {content: \"▾\";}#sk-container-id-1 div.sk-estimator input.sk-toggleable__control:checked~label.sk-toggleable__label {background-color: #d4ebff;}#sk-container-id-1 div.sk-label input.sk-toggleable__control:checked~label.sk-toggleable__label {background-color: #d4ebff;}#sk-container-id-1 input.sk-hidden--visually {border: 0;clip: rect(1px 1px 1px 1px);clip: rect(1px, 1px, 1px, 1px);height: 1px;margin: -1px;overflow: hidden;padding: 0;position: absolute;width: 1px;}#sk-container-id-1 div.sk-estimator {font-family: monospace;background-color: #f0f8ff;border: 1px dotted black;border-radius: 0.25em;box-sizing: border-box;margin-bottom: 0.5em;}#sk-container-id-1 div.sk-estimator:hover {background-color: #d4ebff;}#sk-container-id-1 div.sk-parallel-item::after {content: \"\";width: 100%;border-bottom: 1px solid gray;flex-grow: 1;}#sk-container-id-1 div.sk-label:hover label.sk-toggleable__label {background-color: #d4ebff;}#sk-container-id-1 div.sk-serial::before {content: \"\";position: absolute;border-left: 1px solid gray;box-sizing: border-box;top: 0;bottom: 0;left: 50%;z-index: 0;}#sk-container-id-1 div.sk-serial {display: flex;flex-direction: column;align-items: center;background-color: white;padding-right: 0.2em;padding-left: 0.2em;position: relative;}#sk-container-id-1 div.sk-item {position: relative;z-index: 1;}#sk-container-id-1 div.sk-parallel {display: flex;align-items: stretch;justify-content: center;background-color: white;position: relative;}#sk-container-id-1 div.sk-item::before, #sk-container-id-1 div.sk-parallel-item::before {content: \"\";position: absolute;border-left: 1px solid gray;box-sizing: border-box;top: 0;bottom: 0;left: 50%;z-index: -1;}#sk-container-id-1 div.sk-parallel-item {display: flex;flex-direction: column;z-index: 1;position: relative;background-color: white;}#sk-container-id-1 div.sk-parallel-item:first-child::after {align-self: flex-end;width: 50%;}#sk-container-id-1 div.sk-parallel-item:last-child::after {align-self: flex-start;width: 50%;}#sk-container-id-1 div.sk-parallel-item:only-child::after {width: 0;}#sk-container-id-1 div.sk-dashed-wrapped {border: 1px dashed gray;margin: 0 0.4em 0.5em 0.4em;box-sizing: border-box;padding-bottom: 0.4em;background-color: white;}#sk-container-id-1 div.sk-label label {font-family: monospace;font-weight: bold;display: inline-block;line-height: 1.2em;}#sk-container-id-1 div.sk-label-container {text-align: center;}#sk-container-id-1 div.sk-container {/* jupyter's `normalize.less` sets `[hidden] { display: none; }` but bootstrap.min.css set `[hidden] { display: none !important; }` so we also need the `!important` here to be able to override the default hidden behavior on the sphinx rendered scikit-learn.org. See: https://github.com/scikit-learn/scikit-learn/issues/21755 */display: inline-block !important;position: relative;}#sk-container-id-1 div.sk-text-repr-fallback {display: none;}</style><div id=\"sk-container-id-1\" class=\"sk-top-container\"><div class=\"sk-text-repr-fallback\"><pre>ExtraTreeClassifier(max_depth=20, max_features=5, min_samples_split=30,\n",
       "                    random_state=42)</pre><b>In a Jupyter environment, please rerun this cell to show the HTML representation or trust the notebook. <br />On GitHub, the HTML representation is unable to render, please try loading this page with nbviewer.org.</b></div><div class=\"sk-container\" hidden><div class=\"sk-item\"><div class=\"sk-estimator sk-toggleable\"><input class=\"sk-toggleable__control sk-hidden--visually\" id=\"sk-estimator-id-1\" type=\"checkbox\" checked><label for=\"sk-estimator-id-1\" class=\"sk-toggleable__label sk-toggleable__label-arrow\">ExtraTreeClassifier</label><div class=\"sk-toggleable__content\"><pre>ExtraTreeClassifier(max_depth=20, max_features=5, min_samples_split=30,\n",
       "                    random_state=42)</pre></div></div></div></div></div>"
      ],
      "text/plain": [
       "ExtraTreeClassifier(max_depth=20, max_features=5, min_samples_split=30,\n",
       "                    random_state=42)"
      ]
     },
     "execution_count": 16,
     "metadata": {},
     "output_type": "execute_result"
    }
   ],
   "source": [
    "model_tree = ExtraTreeClassifier(max_features=5, max_depth=20, min_samples_split=30, random_state=42)\n",
    "model_tree.fit(train_X,train_y)"
   ]
  },
  {
   "cell_type": "code",
   "execution_count": 18,
   "metadata": {},
   "outputs": [],
   "source": [
    "import pickle\n",
    "with open('modelo.pkl', 'wb') as file:\n",
    "    pickle.dump(model_tree, file)"
   ]
  },
  {
   "cell_type": "code",
   "execution_count": 19,
   "metadata": {},
   "outputs": [
    {
     "data": {
      "text/html": [
       "<style>#sk-container-id-2 {color: black;background-color: white;}#sk-container-id-2 pre{padding: 0;}#sk-container-id-2 div.sk-toggleable {background-color: white;}#sk-container-id-2 label.sk-toggleable__label {cursor: pointer;display: block;width: 100%;margin-bottom: 0;padding: 0.3em;box-sizing: border-box;text-align: center;}#sk-container-id-2 label.sk-toggleable__label-arrow:before {content: \"▸\";float: left;margin-right: 0.25em;color: #696969;}#sk-container-id-2 label.sk-toggleable__label-arrow:hover:before {color: black;}#sk-container-id-2 div.sk-estimator:hover label.sk-toggleable__label-arrow:before {color: black;}#sk-container-id-2 div.sk-toggleable__content {max-height: 0;max-width: 0;overflow: hidden;text-align: left;background-color: #f0f8ff;}#sk-container-id-2 div.sk-toggleable__content pre {margin: 0.2em;color: black;border-radius: 0.25em;background-color: #f0f8ff;}#sk-container-id-2 input.sk-toggleable__control:checked~div.sk-toggleable__content {max-height: 200px;max-width: 100%;overflow: auto;}#sk-container-id-2 input.sk-toggleable__control:checked~label.sk-toggleable__label-arrow:before {content: \"▾\";}#sk-container-id-2 div.sk-estimator input.sk-toggleable__control:checked~label.sk-toggleable__label {background-color: #d4ebff;}#sk-container-id-2 div.sk-label input.sk-toggleable__control:checked~label.sk-toggleable__label {background-color: #d4ebff;}#sk-container-id-2 input.sk-hidden--visually {border: 0;clip: rect(1px 1px 1px 1px);clip: rect(1px, 1px, 1px, 1px);height: 1px;margin: -1px;overflow: hidden;padding: 0;position: absolute;width: 1px;}#sk-container-id-2 div.sk-estimator {font-family: monospace;background-color: #f0f8ff;border: 1px dotted black;border-radius: 0.25em;box-sizing: border-box;margin-bottom: 0.5em;}#sk-container-id-2 div.sk-estimator:hover {background-color: #d4ebff;}#sk-container-id-2 div.sk-parallel-item::after {content: \"\";width: 100%;border-bottom: 1px solid gray;flex-grow: 1;}#sk-container-id-2 div.sk-label:hover label.sk-toggleable__label {background-color: #d4ebff;}#sk-container-id-2 div.sk-serial::before {content: \"\";position: absolute;border-left: 1px solid gray;box-sizing: border-box;top: 0;bottom: 0;left: 50%;z-index: 0;}#sk-container-id-2 div.sk-serial {display: flex;flex-direction: column;align-items: center;background-color: white;padding-right: 0.2em;padding-left: 0.2em;position: relative;}#sk-container-id-2 div.sk-item {position: relative;z-index: 1;}#sk-container-id-2 div.sk-parallel {display: flex;align-items: stretch;justify-content: center;background-color: white;position: relative;}#sk-container-id-2 div.sk-item::before, #sk-container-id-2 div.sk-parallel-item::before {content: \"\";position: absolute;border-left: 1px solid gray;box-sizing: border-box;top: 0;bottom: 0;left: 50%;z-index: -1;}#sk-container-id-2 div.sk-parallel-item {display: flex;flex-direction: column;z-index: 1;position: relative;background-color: white;}#sk-container-id-2 div.sk-parallel-item:first-child::after {align-self: flex-end;width: 50%;}#sk-container-id-2 div.sk-parallel-item:last-child::after {align-self: flex-start;width: 50%;}#sk-container-id-2 div.sk-parallel-item:only-child::after {width: 0;}#sk-container-id-2 div.sk-dashed-wrapped {border: 1px dashed gray;margin: 0 0.4em 0.5em 0.4em;box-sizing: border-box;padding-bottom: 0.4em;background-color: white;}#sk-container-id-2 div.sk-label label {font-family: monospace;font-weight: bold;display: inline-block;line-height: 1.2em;}#sk-container-id-2 div.sk-label-container {text-align: center;}#sk-container-id-2 div.sk-container {/* jupyter's `normalize.less` sets `[hidden] { display: none; }` but bootstrap.min.css set `[hidden] { display: none !important; }` so we also need the `!important` here to be able to override the default hidden behavior on the sphinx rendered scikit-learn.org. See: https://github.com/scikit-learn/scikit-learn/issues/21755 */display: inline-block !important;position: relative;}#sk-container-id-2 div.sk-text-repr-fallback {display: none;}</style><div id=\"sk-container-id-2\" class=\"sk-top-container\"><div class=\"sk-text-repr-fallback\"><pre>KNeighborsClassifier(n_neighbors=50)</pre><b>In a Jupyter environment, please rerun this cell to show the HTML representation or trust the notebook. <br />On GitHub, the HTML representation is unable to render, please try loading this page with nbviewer.org.</b></div><div class=\"sk-container\" hidden><div class=\"sk-item\"><div class=\"sk-estimator sk-toggleable\"><input class=\"sk-toggleable__control sk-hidden--visually\" id=\"sk-estimator-id-2\" type=\"checkbox\" checked><label for=\"sk-estimator-id-2\" class=\"sk-toggleable__label sk-toggleable__label-arrow\">KNeighborsClassifier</label><div class=\"sk-toggleable__content\"><pre>KNeighborsClassifier(n_neighbors=50)</pre></div></div></div></div></div>"
      ],
      "text/plain": [
       "KNeighborsClassifier(n_neighbors=50)"
      ]
     },
     "execution_count": 19,
     "metadata": {},
     "output_type": "execute_result"
    }
   ],
   "source": [
    "knn_model = KNeighborsClassifier(n_neighbors=50)\n",
    "knn_model.fit(train_X, train_y)"
   ]
  },
  {
   "cell_type": "code",
   "execution_count": 73,
   "metadata": {},
   "outputs": [
    {
     "data": {
      "text/html": [
       "<style>#sk-container-id-19 {color: black;background-color: white;}#sk-container-id-19 pre{padding: 0;}#sk-container-id-19 div.sk-toggleable {background-color: white;}#sk-container-id-19 label.sk-toggleable__label {cursor: pointer;display: block;width: 100%;margin-bottom: 0;padding: 0.3em;box-sizing: border-box;text-align: center;}#sk-container-id-19 label.sk-toggleable__label-arrow:before {content: \"▸\";float: left;margin-right: 0.25em;color: #696969;}#sk-container-id-19 label.sk-toggleable__label-arrow:hover:before {color: black;}#sk-container-id-19 div.sk-estimator:hover label.sk-toggleable__label-arrow:before {color: black;}#sk-container-id-19 div.sk-toggleable__content {max-height: 0;max-width: 0;overflow: hidden;text-align: left;background-color: #f0f8ff;}#sk-container-id-19 div.sk-toggleable__content pre {margin: 0.2em;color: black;border-radius: 0.25em;background-color: #f0f8ff;}#sk-container-id-19 input.sk-toggleable__control:checked~div.sk-toggleable__content {max-height: 200px;max-width: 100%;overflow: auto;}#sk-container-id-19 input.sk-toggleable__control:checked~label.sk-toggleable__label-arrow:before {content: \"▾\";}#sk-container-id-19 div.sk-estimator input.sk-toggleable__control:checked~label.sk-toggleable__label {background-color: #d4ebff;}#sk-container-id-19 div.sk-label input.sk-toggleable__control:checked~label.sk-toggleable__label {background-color: #d4ebff;}#sk-container-id-19 input.sk-hidden--visually {border: 0;clip: rect(1px 1px 1px 1px);clip: rect(1px, 1px, 1px, 1px);height: 1px;margin: -1px;overflow: hidden;padding: 0;position: absolute;width: 1px;}#sk-container-id-19 div.sk-estimator {font-family: monospace;background-color: #f0f8ff;border: 1px dotted black;border-radius: 0.25em;box-sizing: border-box;margin-bottom: 0.5em;}#sk-container-id-19 div.sk-estimator:hover {background-color: #d4ebff;}#sk-container-id-19 div.sk-parallel-item::after {content: \"\";width: 100%;border-bottom: 1px solid gray;flex-grow: 1;}#sk-container-id-19 div.sk-label:hover label.sk-toggleable__label {background-color: #d4ebff;}#sk-container-id-19 div.sk-serial::before {content: \"\";position: absolute;border-left: 1px solid gray;box-sizing: border-box;top: 0;bottom: 0;left: 50%;z-index: 0;}#sk-container-id-19 div.sk-serial {display: flex;flex-direction: column;align-items: center;background-color: white;padding-right: 0.2em;padding-left: 0.2em;position: relative;}#sk-container-id-19 div.sk-item {position: relative;z-index: 1;}#sk-container-id-19 div.sk-parallel {display: flex;align-items: stretch;justify-content: center;background-color: white;position: relative;}#sk-container-id-19 div.sk-item::before, #sk-container-id-19 div.sk-parallel-item::before {content: \"\";position: absolute;border-left: 1px solid gray;box-sizing: border-box;top: 0;bottom: 0;left: 50%;z-index: -1;}#sk-container-id-19 div.sk-parallel-item {display: flex;flex-direction: column;z-index: 1;position: relative;background-color: white;}#sk-container-id-19 div.sk-parallel-item:first-child::after {align-self: flex-end;width: 50%;}#sk-container-id-19 div.sk-parallel-item:last-child::after {align-self: flex-start;width: 50%;}#sk-container-id-19 div.sk-parallel-item:only-child::after {width: 0;}#sk-container-id-19 div.sk-dashed-wrapped {border: 1px dashed gray;margin: 0 0.4em 0.5em 0.4em;box-sizing: border-box;padding-bottom: 0.4em;background-color: white;}#sk-container-id-19 div.sk-label label {font-family: monospace;font-weight: bold;display: inline-block;line-height: 1.2em;}#sk-container-id-19 div.sk-label-container {text-align: center;}#sk-container-id-19 div.sk-container {/* jupyter's `normalize.less` sets `[hidden] { display: none; }` but bootstrap.min.css set `[hidden] { display: none !important; }` so we also need the `!important` here to be able to override the default hidden behavior on the sphinx rendered scikit-learn.org. See: https://github.com/scikit-learn/scikit-learn/issues/21755 */display: inline-block !important;position: relative;}#sk-container-id-19 div.sk-text-repr-fallback {display: none;}</style><div id=\"sk-container-id-19\" class=\"sk-top-container\"><div class=\"sk-text-repr-fallback\"><pre>RandomForestClassifier(criterion=&#x27;entropy&#x27;, max_depth=15, min_samples_split=35,\n",
       "                       oob_score=True, random_state=0, warm_start=True)</pre><b>In a Jupyter environment, please rerun this cell to show the HTML representation or trust the notebook. <br />On GitHub, the HTML representation is unable to render, please try loading this page with nbviewer.org.</b></div><div class=\"sk-container\" hidden><div class=\"sk-item\"><div class=\"sk-estimator sk-toggleable\"><input class=\"sk-toggleable__control sk-hidden--visually\" id=\"sk-estimator-id-19\" type=\"checkbox\" checked><label for=\"sk-estimator-id-19\" class=\"sk-toggleable__label sk-toggleable__label-arrow\">RandomForestClassifier</label><div class=\"sk-toggleable__content\"><pre>RandomForestClassifier(criterion=&#x27;entropy&#x27;, max_depth=15, min_samples_split=35,\n",
       "                       oob_score=True, random_state=0, warm_start=True)</pre></div></div></div></div></div>"
      ],
      "text/plain": [
       "RandomForestClassifier(criterion='entropy', max_depth=15, min_samples_split=35,\n",
       "                       oob_score=True, random_state=0, warm_start=True)"
      ]
     },
     "execution_count": 73,
     "metadata": {},
     "output_type": "execute_result"
    }
   ],
   "source": [
    "forest_model = RandomForestClassifier(criterion='entropy', oob_score=True, warm_start=True, bootstrap=True, max_depth=15, min_samples_split=35, random_state=0)\n",
    "forest_model.fit(train_X, train_y)"
   ]
  },
  {
   "cell_type": "code",
   "execution_count": 17,
   "metadata": {},
   "outputs": [],
   "source": [
    "def set_cross_validate(model):\n",
    "  from sklearn.model_selection import cross_validate\n",
    "  from sklearn.model_selection import StratifiedKFold\n",
    "\n",
    "  metric_names = ['accuracy', 'precision_macro', 'recall_macro','f1_macro']\n",
    "  cross_val = StratifiedKFold(n_splits=5, shuffle=True, random_state=42)\n",
    "\n",
    "  metricas = cross_validate(model, X, y, cv=cross_val, scoring=metric_names)\n",
    "  for metrica in metricas:\n",
    "    print(f\"- {metrica}:\")\n",
    "    print(f\"-- {metricas[metrica]}\")\n",
    "    print(f\"-- {np.mean(metricas[metrica])} +- {np.std(metricas[metrica])}\\n\")\n"
   ]
  },
  {
   "cell_type": "code",
   "execution_count": 18,
   "metadata": {},
   "outputs": [
    {
     "name": "stdout",
     "output_type": "stream",
     "text": [
      "- fit_time:\n",
      "-- [0.45471931 0.46571398 0.45172334 0.49868989 0.60562801]\n",
      "-- 0.4952949047088623 +- 0.057627793410051635\n",
      "\n",
      "- score_time:\n",
      "-- [0.08994365 0.09594202 0.08794761 0.12392521 0.09094524]\n",
      "-- 0.0977407455444336 +- 0.013354704683144368\n",
      "\n",
      "- test_accuracy:\n",
      "-- [0.91139636 0.91138073 0.91228756 0.91142763 0.91180287]\n",
      "-- 0.9116590315670976 +- 0.00035092166011536913\n",
      "\n",
      "- test_precision_macro:\n",
      "-- [0.67165771 0.67264181 0.68386584 0.67023221 0.67746753]\n",
      "-- 0.675173020929336 +- 0.004980079388121115\n",
      "\n",
      "- test_recall_macro:\n",
      "-- [0.54173285 0.54313176 0.54511698 0.53951473 0.54344478]\n",
      "-- 0.5425882179679433 +- 0.0018762615026616126\n",
      "\n",
      "- test_f1_macro:\n",
      "-- [0.55465612 0.55675913 0.55994014 0.55127674 0.557322  ]\n",
      "-- 0.555990825984974 +- 0.002897013585067725\n",
      "\n"
     ]
    }
   ],
   "source": [
    "set_cross_validate(model_tree)"
   ]
  },
  {
   "cell_type": "code",
   "execution_count": 20,
   "metadata": {},
   "outputs": [
    {
     "name": "stdout",
     "output_type": "stream",
     "text": [
      "- fit_time:\n",
      "-- [0.16190028 0.09194541 0.09094262 0.08894539 0.09993768]\n",
      "-- 0.1067342758178711 +- 0.02783527759153037\n",
      "\n",
      "- score_time:\n",
      "-- [60.51952505 60.60464525 60.82451034 61.38498211 62.52200198]\n",
      "-- 61.1711329460144 +- 0.7397603674082986\n",
      "\n",
      "- test_accuracy:\n",
      "-- [0.91477353 0.91447646 0.91580544 0.91527385 0.91494551]\n",
      "-- 0.9150549570818806 +- 0.0004554059127816624\n",
      "\n",
      "- test_precision_macro:\n",
      "-- [0.7216706  0.71088681 0.76861872 0.74053562 0.73026214]\n",
      "-- 0.7343947770939894 +- 0.019700739261676925\n",
      "\n",
      "- test_recall_macro:\n",
      "-- [0.51956989 0.51957303 0.52005598 0.5210897  0.5185097 ]\n",
      "-- 0.5197596598038738 +- 0.0008354728937618089\n",
      "\n",
      "- test_f1_macro:\n",
      "-- [0.51719336 0.51729482 0.51776469 0.5198733  0.51512683]\n",
      "-- 0.5174506006525551 +- 0.0015138364399505874\n",
      "\n"
     ]
    }
   ],
   "source": [
    "set_cross_validate(knn_model)"
   ]
  },
  {
   "cell_type": "code",
   "execution_count": 27,
   "metadata": {},
   "outputs": [
    {
     "data": {
      "text/html": [
       "<style>#sk-container-id-4 {color: black;background-color: white;}#sk-container-id-4 pre{padding: 0;}#sk-container-id-4 div.sk-toggleable {background-color: white;}#sk-container-id-4 label.sk-toggleable__label {cursor: pointer;display: block;width: 100%;margin-bottom: 0;padding: 0.3em;box-sizing: border-box;text-align: center;}#sk-container-id-4 label.sk-toggleable__label-arrow:before {content: \"▸\";float: left;margin-right: 0.25em;color: #696969;}#sk-container-id-4 label.sk-toggleable__label-arrow:hover:before {color: black;}#sk-container-id-4 div.sk-estimator:hover label.sk-toggleable__label-arrow:before {color: black;}#sk-container-id-4 div.sk-toggleable__content {max-height: 0;max-width: 0;overflow: hidden;text-align: left;background-color: #f0f8ff;}#sk-container-id-4 div.sk-toggleable__content pre {margin: 0.2em;color: black;border-radius: 0.25em;background-color: #f0f8ff;}#sk-container-id-4 input.sk-toggleable__control:checked~div.sk-toggleable__content {max-height: 200px;max-width: 100%;overflow: auto;}#sk-container-id-4 input.sk-toggleable__control:checked~label.sk-toggleable__label-arrow:before {content: \"▾\";}#sk-container-id-4 div.sk-estimator input.sk-toggleable__control:checked~label.sk-toggleable__label {background-color: #d4ebff;}#sk-container-id-4 div.sk-label input.sk-toggleable__control:checked~label.sk-toggleable__label {background-color: #d4ebff;}#sk-container-id-4 input.sk-hidden--visually {border: 0;clip: rect(1px 1px 1px 1px);clip: rect(1px, 1px, 1px, 1px);height: 1px;margin: -1px;overflow: hidden;padding: 0;position: absolute;width: 1px;}#sk-container-id-4 div.sk-estimator {font-family: monospace;background-color: #f0f8ff;border: 1px dotted black;border-radius: 0.25em;box-sizing: border-box;margin-bottom: 0.5em;}#sk-container-id-4 div.sk-estimator:hover {background-color: #d4ebff;}#sk-container-id-4 div.sk-parallel-item::after {content: \"\";width: 100%;border-bottom: 1px solid gray;flex-grow: 1;}#sk-container-id-4 div.sk-label:hover label.sk-toggleable__label {background-color: #d4ebff;}#sk-container-id-4 div.sk-serial::before {content: \"\";position: absolute;border-left: 1px solid gray;box-sizing: border-box;top: 0;bottom: 0;left: 50%;z-index: 0;}#sk-container-id-4 div.sk-serial {display: flex;flex-direction: column;align-items: center;background-color: white;padding-right: 0.2em;padding-left: 0.2em;position: relative;}#sk-container-id-4 div.sk-item {position: relative;z-index: 1;}#sk-container-id-4 div.sk-parallel {display: flex;align-items: stretch;justify-content: center;background-color: white;position: relative;}#sk-container-id-4 div.sk-item::before, #sk-container-id-4 div.sk-parallel-item::before {content: \"\";position: absolute;border-left: 1px solid gray;box-sizing: border-box;top: 0;bottom: 0;left: 50%;z-index: -1;}#sk-container-id-4 div.sk-parallel-item {display: flex;flex-direction: column;z-index: 1;position: relative;background-color: white;}#sk-container-id-4 div.sk-parallel-item:first-child::after {align-self: flex-end;width: 50%;}#sk-container-id-4 div.sk-parallel-item:last-child::after {align-self: flex-start;width: 50%;}#sk-container-id-4 div.sk-parallel-item:only-child::after {width: 0;}#sk-container-id-4 div.sk-dashed-wrapped {border: 1px dashed gray;margin: 0 0.4em 0.5em 0.4em;box-sizing: border-box;padding-bottom: 0.4em;background-color: white;}#sk-container-id-4 div.sk-label label {font-family: monospace;font-weight: bold;display: inline-block;line-height: 1.2em;}#sk-container-id-4 div.sk-label-container {text-align: center;}#sk-container-id-4 div.sk-container {/* jupyter's `normalize.less` sets `[hidden] { display: none; }` but bootstrap.min.css set `[hidden] { display: none !important; }` so we also need the `!important` here to be able to override the default hidden behavior on the sphinx rendered scikit-learn.org. See: https://github.com/scikit-learn/scikit-learn/issues/21755 */display: inline-block !important;position: relative;}#sk-container-id-4 div.sk-text-repr-fallback {display: none;}</style><div id=\"sk-container-id-4\" class=\"sk-top-container\"><div class=\"sk-text-repr-fallback\"><pre>AdaBoostClassifier(algorithm=&#x27;SAMME&#x27;,\n",
       "                   base_estimator=DecisionTreeClassifier(max_depth=20,\n",
       "                                                         random_state=42),\n",
       "                   n_estimators=300, random_state=42)</pre><b>In a Jupyter environment, please rerun this cell to show the HTML representation or trust the notebook. <br />On GitHub, the HTML representation is unable to render, please try loading this page with nbviewer.org.</b></div><div class=\"sk-container\" hidden><div class=\"sk-item sk-dashed-wrapped\"><div class=\"sk-label-container\"><div class=\"sk-label sk-toggleable\"><input class=\"sk-toggleable__control sk-hidden--visually\" id=\"sk-estimator-id-4\" type=\"checkbox\" ><label for=\"sk-estimator-id-4\" class=\"sk-toggleable__label sk-toggleable__label-arrow\">AdaBoostClassifier</label><div class=\"sk-toggleable__content\"><pre>AdaBoostClassifier(algorithm=&#x27;SAMME&#x27;,\n",
       "                   base_estimator=DecisionTreeClassifier(max_depth=20,\n",
       "                                                         random_state=42),\n",
       "                   n_estimators=300, random_state=42)</pre></div></div></div><div class=\"sk-parallel\"><div class=\"sk-parallel-item\"><div class=\"sk-item\"><div class=\"sk-label-container\"><div class=\"sk-label sk-toggleable\"><input class=\"sk-toggleable__control sk-hidden--visually\" id=\"sk-estimator-id-5\" type=\"checkbox\" ><label for=\"sk-estimator-id-5\" class=\"sk-toggleable__label sk-toggleable__label-arrow\">base_estimator: DecisionTreeClassifier</label><div class=\"sk-toggleable__content\"><pre>DecisionTreeClassifier(max_depth=20, random_state=42)</pre></div></div></div><div class=\"sk-serial\"><div class=\"sk-item\"><div class=\"sk-estimator sk-toggleable\"><input class=\"sk-toggleable__control sk-hidden--visually\" id=\"sk-estimator-id-6\" type=\"checkbox\" ><label for=\"sk-estimator-id-6\" class=\"sk-toggleable__label sk-toggleable__label-arrow\">DecisionTreeClassifier</label><div class=\"sk-toggleable__content\"><pre>DecisionTreeClassifier(max_depth=20, random_state=42)</pre></div></div></div></div></div></div></div></div></div></div>"
      ],
      "text/plain": [
       "AdaBoostClassifier(algorithm='SAMME',\n",
       "                   base_estimator=DecisionTreeClassifier(max_depth=20,\n",
       "                                                         random_state=42),\n",
       "                   n_estimators=300, random_state=42)"
      ]
     },
     "execution_count": 27,
     "metadata": {},
     "output_type": "execute_result"
    }
   ],
   "source": [
    "ada_model = AdaBoostClassifier(\n",
    "  DecisionTreeClassifier(max_depth=20, random_state=42),\n",
    "  n_estimators=300,\n",
    "  algorithm='SAMME',\n",
    "  random_state=42\n",
    ")\n",
    "ada_model.fit(train_X, train_y)\n"
   ]
  },
  {
   "cell_type": "code",
   "execution_count": 28,
   "metadata": {},
   "outputs": [],
   "source": [
    "set_cross_validate(ada_model)"
   ]
  },
  {
   "cell_type": "code",
   "execution_count": 74,
   "metadata": {},
   "outputs": [
    {
     "name": "stdout",
     "output_type": "stream",
     "text": [
      "- fit_time:\n",
      "-- [56.3023541  53.71594596 46.6233058  82.54920292 78.77952099]\n",
      "-- 63.59406595230102 +- 14.34327911383388\n",
      "\n",
      "- score_time:\n",
      "-- [1.88883734 1.36016035 1.63499832 2.25960851 1.7938962 ]\n",
      "-- 1.7875001430511475 +- 0.29633513040675974\n",
      "\n",
      "- test_accuracy:\n",
      "-- [0.91553964 0.91561782 0.91596179 0.91544583 0.91569599]\n",
      "-- 0.9156522147000423 +- 0.00017561401625539895\n",
      "\n",
      "- test_precision_macro:\n",
      "-- [0.74582496 0.74926162 0.76367241 0.73955975 0.75348251]\n",
      "-- 0.7503602478744066 +- 0.008067079548038661\n",
      "\n",
      "- test_recall_macro:\n",
      "-- [0.52388001 0.52367438 0.52394912 0.52623301 0.52347268]\n",
      "-- 0.5242418385251147 +- 0.0010094545758772098\n",
      "\n",
      "- test_f1_macro:\n",
      "-- [0.52496833 0.52457394 0.52499372 0.52924274 0.524178  ]\n",
      "-- 0.5255913476790218 +- 0.0018498982556751282\n",
      "\n"
     ]
    }
   ],
   "source": [
    "set_cross_validate(forest_model)"
   ]
  },
  {
   "cell_type": "code",
   "execution_count": 23,
   "metadata": {},
   "outputs": [
    {
     "ename": "NameError",
     "evalue": "name 'forest_model' is not defined",
     "output_type": "error",
     "traceback": [
      "\u001b[1;31m---------------------------------------------------------------------------\u001b[0m",
      "\u001b[1;31mNameError\u001b[0m                                 Traceback (most recent call last)",
      "\u001b[1;32mc:\\Users\\jvr25\\Desktop\\mineração de dados\\trabalho final\\notebooks\\1.0-generate-model.ipynb Célula: 37\u001b[0m in \u001b[0;36m<cell line: 2>\u001b[1;34m()\u001b[0m\n\u001b[0;32m      <a href='vscode-notebook-cell:/c%3A/Users/jvr25/Desktop/minera%C3%A7%C3%A3o%20de%20dados/trabalho%20final/notebooks/1.0-generate-model.ipynb#X51sZmlsZQ%3D%3D?line=0'>1</a>\u001b[0m \u001b[39mfrom\u001b[39;00m \u001b[39msklearn\u001b[39;00m\u001b[39m.\u001b[39;00m\u001b[39mmetrics\u001b[39;00m \u001b[39mimport\u001b[39;00m classification_report\n\u001b[1;32m----> <a href='vscode-notebook-cell:/c%3A/Users/jvr25/Desktop/minera%C3%A7%C3%A3o%20de%20dados/trabalho%20final/notebooks/1.0-generate-model.ipynb#X51sZmlsZQ%3D%3D?line=1'>2</a>\u001b[0m \u001b[39mprint\u001b[39m(classification_report(val_y, forest_model\u001b[39m.\u001b[39mpredict(val_X)))\n",
      "\u001b[1;31mNameError\u001b[0m: name 'forest_model' is not defined"
     ]
    }
   ],
   "source": [
    "print(classification_report(val_y, forest_model.predict(val_X)))"
   ]
  },
  {
   "cell_type": "code",
   "execution_count": 108,
   "metadata": {},
   "outputs": [
    {
     "data": {
      "text/html": [
       "<div>\n",
       "<style scoped>\n",
       "    .dataframe tbody tr th:only-of-type {\n",
       "        vertical-align: middle;\n",
       "    }\n",
       "\n",
       "    .dataframe tbody tr th {\n",
       "        vertical-align: top;\n",
       "    }\n",
       "\n",
       "    .dataframe thead th {\n",
       "        text-align: right;\n",
       "    }\n",
       "</style>\n",
       "<table border=\"1\" class=\"dataframe\">\n",
       "  <thead>\n",
       "    <tr style=\"text-align: right;\">\n",
       "      <th></th>\n",
       "      <th>target</th>\n",
       "      <th>IMC</th>\n",
       "      <th>Smoking</th>\n",
       "      <th>AlcoholDrinking</th>\n",
       "      <th>Stroke</th>\n",
       "      <th>PhysicalHealth</th>\n",
       "      <th>MentalHealth</th>\n",
       "      <th>DiffWalking</th>\n",
       "      <th>Sex</th>\n",
       "      <th>AgeCategory</th>\n",
       "      <th>Race</th>\n",
       "      <th>Diabetic</th>\n",
       "      <th>PhysicalActivity</th>\n",
       "      <th>GenHealth</th>\n",
       "      <th>SleepTime</th>\n",
       "      <th>Asthma</th>\n",
       "      <th>KidneyDisease</th>\n",
       "      <th>SkinCancer</th>\n",
       "    </tr>\n",
       "  </thead>\n",
       "  <tbody>\n",
       "    <tr>\n",
       "      <th>0</th>\n",
       "      <td>1</td>\n",
       "      <td>-1.844750</td>\n",
       "      <td>-1.193474</td>\n",
       "      <td>-0.27032</td>\n",
       "      <td>-0.198040</td>\n",
       "      <td>-0.046751</td>\n",
       "      <td>3.281069</td>\n",
       "      <td>-0.401578</td>\n",
       "      <td>-0.951711</td>\n",
       "      <td>0.149220</td>\n",
       "      <td>-0.468951</td>\n",
       "      <td>-2.189273</td>\n",
       "      <td>-0.538256</td>\n",
       "      <td>-1.083956</td>\n",
       "      <td>-1.460354</td>\n",
       "      <td>-2.541515</td>\n",
       "      <td>-0.195554</td>\n",
       "      <td>-3.118419</td>\n",
       "    </tr>\n",
       "    <tr>\n",
       "      <th>1</th>\n",
       "      <td>1</td>\n",
       "      <td>-1.256338</td>\n",
       "      <td>0.837890</td>\n",
       "      <td>-0.27032</td>\n",
       "      <td>5.049478</td>\n",
       "      <td>-0.424070</td>\n",
       "      <td>-0.490039</td>\n",
       "      <td>-0.401578</td>\n",
       "      <td>-0.951711</td>\n",
       "      <td>1.447159</td>\n",
       "      <td>-0.468951</td>\n",
       "      <td>0.217526</td>\n",
       "      <td>-0.538256</td>\n",
       "      <td>-1.083956</td>\n",
       "      <td>-0.067601</td>\n",
       "      <td>0.393466</td>\n",
       "      <td>-0.195554</td>\n",
       "      <td>0.320675</td>\n",
       "    </tr>\n",
       "    <tr>\n",
       "      <th>2</th>\n",
       "      <td>1</td>\n",
       "      <td>-0.274603</td>\n",
       "      <td>-1.193474</td>\n",
       "      <td>-0.27032</td>\n",
       "      <td>-0.198040</td>\n",
       "      <td>2.091388</td>\n",
       "      <td>3.281069</td>\n",
       "      <td>-0.401578</td>\n",
       "      <td>1.050739</td>\n",
       "      <td>0.713541</td>\n",
       "      <td>-0.468951</td>\n",
       "      <td>-2.189273</td>\n",
       "      <td>-0.538256</td>\n",
       "      <td>-0.420104</td>\n",
       "      <td>0.628776</td>\n",
       "      <td>-2.541515</td>\n",
       "      <td>-0.195554</td>\n",
       "      <td>0.320675</td>\n",
       "    </tr>\n",
       "    <tr>\n",
       "      <th>3</th>\n",
       "      <td>1</td>\n",
       "      <td>-0.647473</td>\n",
       "      <td>0.837890</td>\n",
       "      <td>-0.27032</td>\n",
       "      <td>-0.198040</td>\n",
       "      <td>-0.424070</td>\n",
       "      <td>-0.490039</td>\n",
       "      <td>-0.401578</td>\n",
       "      <td>-0.951711</td>\n",
       "      <td>1.277863</td>\n",
       "      <td>-0.468951</td>\n",
       "      <td>0.217526</td>\n",
       "      <td>1.857852</td>\n",
       "      <td>0.243748</td>\n",
       "      <td>-0.763977</td>\n",
       "      <td>0.393466</td>\n",
       "      <td>-0.195554</td>\n",
       "      <td>-3.118419</td>\n",
       "    </tr>\n",
       "    <tr>\n",
       "      <th>4</th>\n",
       "      <td>1</td>\n",
       "      <td>-0.726138</td>\n",
       "      <td>0.837890</td>\n",
       "      <td>-0.27032</td>\n",
       "      <td>-0.198040</td>\n",
       "      <td>3.097572</td>\n",
       "      <td>-0.490039</td>\n",
       "      <td>2.490174</td>\n",
       "      <td>-0.951711</td>\n",
       "      <td>-0.697262</td>\n",
       "      <td>-0.468951</td>\n",
       "      <td>0.217526</td>\n",
       "      <td>-0.538256</td>\n",
       "      <td>-1.083956</td>\n",
       "      <td>0.628776</td>\n",
       "      <td>0.393466</td>\n",
       "      <td>-0.195554</td>\n",
       "      <td>0.320675</td>\n",
       "    </tr>\n",
       "    <tr>\n",
       "      <th>5</th>\n",
       "      <td>2</td>\n",
       "      <td>0.085682</td>\n",
       "      <td>-1.193474</td>\n",
       "      <td>-0.27032</td>\n",
       "      <td>-0.198040</td>\n",
       "      <td>0.330568</td>\n",
       "      <td>-0.490039</td>\n",
       "      <td>2.490174</td>\n",
       "      <td>-0.951711</td>\n",
       "      <td>1.277863</td>\n",
       "      <td>0.167524</td>\n",
       "      <td>0.217526</td>\n",
       "      <td>1.857852</td>\n",
       "      <td>-0.420104</td>\n",
       "      <td>3.414282</td>\n",
       "      <td>0.393466</td>\n",
       "      <td>-0.195554</td>\n",
       "      <td>0.320675</td>\n",
       "    </tr>\n",
       "    <tr>\n",
       "      <th>6</th>\n",
       "      <td>1</td>\n",
       "      <td>-1.053383</td>\n",
       "      <td>0.837890</td>\n",
       "      <td>-0.27032</td>\n",
       "      <td>-0.198040</td>\n",
       "      <td>1.462524</td>\n",
       "      <td>-0.490039</td>\n",
       "      <td>-0.401578</td>\n",
       "      <td>-0.951711</td>\n",
       "      <td>0.995702</td>\n",
       "      <td>-0.468951</td>\n",
       "      <td>0.217526</td>\n",
       "      <td>-0.538256</td>\n",
       "      <td>-0.420104</td>\n",
       "      <td>-2.156730</td>\n",
       "      <td>-2.541515</td>\n",
       "      <td>-0.195554</td>\n",
       "      <td>-3.118419</td>\n",
       "    </tr>\n",
       "    <tr>\n",
       "      <th>7</th>\n",
       "      <td>1</td>\n",
       "      <td>0.521484</td>\n",
       "      <td>-1.193474</td>\n",
       "      <td>-0.27032</td>\n",
       "      <td>-0.198040</td>\n",
       "      <td>0.204795</td>\n",
       "      <td>-0.490039</td>\n",
       "      <td>2.490174</td>\n",
       "      <td>-0.951711</td>\n",
       "      <td>1.447159</td>\n",
       "      <td>-0.468951</td>\n",
       "      <td>-2.189273</td>\n",
       "      <td>1.857852</td>\n",
       "      <td>0.243748</td>\n",
       "      <td>1.325152</td>\n",
       "      <td>-2.541515</td>\n",
       "      <td>-0.195554</td>\n",
       "      <td>0.320675</td>\n",
       "    </tr>\n",
       "    <tr>\n",
       "      <th>8</th>\n",
       "      <td>1</td>\n",
       "      <td>-0.295055</td>\n",
       "      <td>0.837890</td>\n",
       "      <td>-0.27032</td>\n",
       "      <td>-0.198040</td>\n",
       "      <td>-0.424070</td>\n",
       "      <td>-0.490039</td>\n",
       "      <td>-0.401578</td>\n",
       "      <td>-0.951711</td>\n",
       "      <td>1.447159</td>\n",
       "      <td>-0.468951</td>\n",
       "      <td>2.624324</td>\n",
       "      <td>1.857852</td>\n",
       "      <td>-0.420104</td>\n",
       "      <td>-1.460354</td>\n",
       "      <td>0.393466</td>\n",
       "      <td>5.113667</td>\n",
       "      <td>0.320675</td>\n",
       "    </tr>\n",
       "    <tr>\n",
       "      <th>9</th>\n",
       "      <td>1</td>\n",
       "      <td>1.945316</td>\n",
       "      <td>0.837890</td>\n",
       "      <td>-0.27032</td>\n",
       "      <td>-0.198040</td>\n",
       "      <td>-0.424070</td>\n",
       "      <td>-0.490039</td>\n",
       "      <td>2.490174</td>\n",
       "      <td>1.050739</td>\n",
       "      <td>0.713541</td>\n",
       "      <td>-0.468951</td>\n",
       "      <td>0.217526</td>\n",
       "      <td>-0.538256</td>\n",
       "      <td>0.243748</td>\n",
       "      <td>2.021529</td>\n",
       "      <td>0.393466</td>\n",
       "      <td>-0.195554</td>\n",
       "      <td>0.320675</td>\n",
       "    </tr>\n",
       "    <tr>\n",
       "      <th>10</th>\n",
       "      <td>2</td>\n",
       "      <td>0.939981</td>\n",
       "      <td>-1.193474</td>\n",
       "      <td>-0.27032</td>\n",
       "      <td>-0.198040</td>\n",
       "      <td>3.349118</td>\n",
       "      <td>-0.490039</td>\n",
       "      <td>2.490174</td>\n",
       "      <td>1.050739</td>\n",
       "      <td>0.431381</td>\n",
       "      <td>-0.468951</td>\n",
       "      <td>-2.189273</td>\n",
       "      <td>1.857852</td>\n",
       "      <td>0.907601</td>\n",
       "      <td>5.503411</td>\n",
       "      <td>-2.541515</td>\n",
       "      <td>-0.195554</td>\n",
       "      <td>0.320675</td>\n",
       "    </tr>\n",
       "    <tr>\n",
       "      <th>11</th>\n",
       "      <td>1</td>\n",
       "      <td>0.060509</td>\n",
       "      <td>-1.193474</td>\n",
       "      <td>-0.27032</td>\n",
       "      <td>-0.198040</td>\n",
       "      <td>-0.424070</td>\n",
       "      <td>-0.490039</td>\n",
       "      <td>-0.401578</td>\n",
       "      <td>-0.951711</td>\n",
       "      <td>0.149220</td>\n",
       "      <td>-0.468951</td>\n",
       "      <td>0.217526</td>\n",
       "      <td>-0.538256</td>\n",
       "      <td>-1.083956</td>\n",
       "      <td>-1.460354</td>\n",
       "      <td>0.393466</td>\n",
       "      <td>-0.195554</td>\n",
       "      <td>0.320675</td>\n",
       "    </tr>\n",
       "    <tr>\n",
       "      <th>12</th>\n",
       "      <td>1</td>\n",
       "      <td>0.007017</td>\n",
       "      <td>-1.193474</td>\n",
       "      <td>-0.27032</td>\n",
       "      <td>-0.198040</td>\n",
       "      <td>-0.424070</td>\n",
       "      <td>-0.490039</td>\n",
       "      <td>2.490174</td>\n",
       "      <td>1.050739</td>\n",
       "      <td>1.277863</td>\n",
       "      <td>-0.468951</td>\n",
       "      <td>-2.189273</td>\n",
       "      <td>-0.538256</td>\n",
       "      <td>-1.083956</td>\n",
       "      <td>0.628776</td>\n",
       "      <td>0.393466</td>\n",
       "      <td>-0.195554</td>\n",
       "      <td>0.320675</td>\n",
       "    </tr>\n",
       "    <tr>\n",
       "      <th>13</th>\n",
       "      <td>1</td>\n",
       "      <td>-0.027595</td>\n",
       "      <td>0.837890</td>\n",
       "      <td>-0.27032</td>\n",
       "      <td>-0.198040</td>\n",
       "      <td>0.456341</td>\n",
       "      <td>-0.490039</td>\n",
       "      <td>2.490174</td>\n",
       "      <td>-0.951711</td>\n",
       "      <td>1.447159</td>\n",
       "      <td>-0.468951</td>\n",
       "      <td>0.217526</td>\n",
       "      <td>1.857852</td>\n",
       "      <td>0.243748</td>\n",
       "      <td>-0.067601</td>\n",
       "      <td>0.393466</td>\n",
       "      <td>-0.195554</td>\n",
       "      <td>0.320675</td>\n",
       "    </tr>\n",
       "    <tr>\n",
       "      <th>14</th>\n",
       "      <td>1</td>\n",
       "      <td>0.151760</td>\n",
       "      <td>-1.193474</td>\n",
       "      <td>-0.27032</td>\n",
       "      <td>-0.198040</td>\n",
       "      <td>-0.424070</td>\n",
       "      <td>3.281069</td>\n",
       "      <td>2.490174</td>\n",
       "      <td>-0.951711</td>\n",
       "      <td>0.431381</td>\n",
       "      <td>-0.468951</td>\n",
       "      <td>0.217526</td>\n",
       "      <td>1.857852</td>\n",
       "      <td>0.243748</td>\n",
       "      <td>-1.460354</td>\n",
       "      <td>0.393466</td>\n",
       "      <td>-0.195554</td>\n",
       "      <td>0.320675</td>\n",
       "    </tr>\n",
       "  </tbody>\n",
       "</table>\n",
       "</div>"
      ],
      "text/plain": [
       "    target       IMC   Smoking  AlcoholDrinking    Stroke  PhysicalHealth  \\\n",
       "0        1 -1.844750 -1.193474         -0.27032 -0.198040       -0.046751   \n",
       "1        1 -1.256338  0.837890         -0.27032  5.049478       -0.424070   \n",
       "2        1 -0.274603 -1.193474         -0.27032 -0.198040        2.091388   \n",
       "3        1 -0.647473  0.837890         -0.27032 -0.198040       -0.424070   \n",
       "4        1 -0.726138  0.837890         -0.27032 -0.198040        3.097572   \n",
       "5        2  0.085682 -1.193474         -0.27032 -0.198040        0.330568   \n",
       "6        1 -1.053383  0.837890         -0.27032 -0.198040        1.462524   \n",
       "7        1  0.521484 -1.193474         -0.27032 -0.198040        0.204795   \n",
       "8        1 -0.295055  0.837890         -0.27032 -0.198040       -0.424070   \n",
       "9        1  1.945316  0.837890         -0.27032 -0.198040       -0.424070   \n",
       "10       2  0.939981 -1.193474         -0.27032 -0.198040        3.349118   \n",
       "11       1  0.060509 -1.193474         -0.27032 -0.198040       -0.424070   \n",
       "12       1  0.007017 -1.193474         -0.27032 -0.198040       -0.424070   \n",
       "13       1 -0.027595  0.837890         -0.27032 -0.198040        0.456341   \n",
       "14       1  0.151760 -1.193474         -0.27032 -0.198040       -0.424070   \n",
       "\n",
       "    MentalHealth  DiffWalking       Sex  AgeCategory      Race  Diabetic  \\\n",
       "0       3.281069    -0.401578 -0.951711     0.149220 -0.468951 -2.189273   \n",
       "1      -0.490039    -0.401578 -0.951711     1.447159 -0.468951  0.217526   \n",
       "2       3.281069    -0.401578  1.050739     0.713541 -0.468951 -2.189273   \n",
       "3      -0.490039    -0.401578 -0.951711     1.277863 -0.468951  0.217526   \n",
       "4      -0.490039     2.490174 -0.951711    -0.697262 -0.468951  0.217526   \n",
       "5      -0.490039     2.490174 -0.951711     1.277863  0.167524  0.217526   \n",
       "6      -0.490039    -0.401578 -0.951711     0.995702 -0.468951  0.217526   \n",
       "7      -0.490039     2.490174 -0.951711     1.447159 -0.468951 -2.189273   \n",
       "8      -0.490039    -0.401578 -0.951711     1.447159 -0.468951  2.624324   \n",
       "9      -0.490039     2.490174  1.050739     0.713541 -0.468951  0.217526   \n",
       "10     -0.490039     2.490174  1.050739     0.431381 -0.468951 -2.189273   \n",
       "11     -0.490039    -0.401578 -0.951711     0.149220 -0.468951  0.217526   \n",
       "12     -0.490039     2.490174  1.050739     1.277863 -0.468951 -2.189273   \n",
       "13     -0.490039     2.490174 -0.951711     1.447159 -0.468951  0.217526   \n",
       "14      3.281069     2.490174 -0.951711     0.431381 -0.468951  0.217526   \n",
       "\n",
       "    PhysicalActivity  GenHealth  SleepTime    Asthma  KidneyDisease  \\\n",
       "0          -0.538256  -1.083956  -1.460354 -2.541515      -0.195554   \n",
       "1          -0.538256  -1.083956  -0.067601  0.393466      -0.195554   \n",
       "2          -0.538256  -0.420104   0.628776 -2.541515      -0.195554   \n",
       "3           1.857852   0.243748  -0.763977  0.393466      -0.195554   \n",
       "4          -0.538256  -1.083956   0.628776  0.393466      -0.195554   \n",
       "5           1.857852  -0.420104   3.414282  0.393466      -0.195554   \n",
       "6          -0.538256  -0.420104  -2.156730 -2.541515      -0.195554   \n",
       "7           1.857852   0.243748   1.325152 -2.541515      -0.195554   \n",
       "8           1.857852  -0.420104  -1.460354  0.393466       5.113667   \n",
       "9          -0.538256   0.243748   2.021529  0.393466      -0.195554   \n",
       "10          1.857852   0.907601   5.503411 -2.541515      -0.195554   \n",
       "11         -0.538256  -1.083956  -1.460354  0.393466      -0.195554   \n",
       "12         -0.538256  -1.083956   0.628776  0.393466      -0.195554   \n",
       "13          1.857852   0.243748  -0.067601  0.393466      -0.195554   \n",
       "14          1.857852   0.243748  -1.460354  0.393466      -0.195554   \n",
       "\n",
       "    SkinCancer  \n",
       "0    -3.118419  \n",
       "1     0.320675  \n",
       "2     0.320675  \n",
       "3    -3.118419  \n",
       "4     0.320675  \n",
       "5     0.320675  \n",
       "6    -3.118419  \n",
       "7     0.320675  \n",
       "8     0.320675  \n",
       "9     0.320675  \n",
       "10    0.320675  \n",
       "11    0.320675  \n",
       "12    0.320675  \n",
       "13    0.320675  \n",
       "14    0.320675  "
      ]
     },
     "execution_count": 108,
     "metadata": {},
     "output_type": "execute_result"
    }
   ],
   "source": [
    "df.head(15)"
   ]
  },
  {
   "cell_type": "code",
   "execution_count": 112,
   "metadata": {},
   "outputs": [
    {
     "data": {
      "text/plain": [
       "1    292422\n",
       "2     27373\n",
       "Name: target, dtype: int64"
      ]
     },
     "execution_count": 112,
     "metadata": {},
     "output_type": "execute_result"
    }
   ],
   "source": [
    "df.target.value_counts()"
   ]
  }
 ],
 "metadata": {
  "kernelspec": {
   "display_name": "Python 3.10.5 64-bit (windows store)",
   "language": "python",
   "name": "python3"
  },
  "language_info": {
   "codemirror_mode": {
    "name": "ipython",
    "version": 3
   },
   "file_extension": ".py",
   "mimetype": "text/x-python",
   "name": "python",
   "nbconvert_exporter": "python",
   "pygments_lexer": "ipython3",
   "version": "3.10.5"
  },
  "orig_nbformat": 4,
  "vscode": {
   "interpreter": {
    "hash": "e54f4a197107cc7013dc8bc3e842bf6b61c56200a6efbc8974873e461b3321ac"
   }
  }
 },
 "nbformat": 4,
 "nbformat_minor": 2
}
